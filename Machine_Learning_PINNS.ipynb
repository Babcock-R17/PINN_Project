{
  "nbformat": 4,
  "nbformat_minor": 0,
  "metadata": {
    "colab": {
      "name": "Machine_Learning_PINNS.ipynb",
      "provenance": [],
      "collapsed_sections": [],
      "authorship_tag": "ABX9TyM79zASzqqfpss22GEc3xQ2",
      "include_colab_link": true
    },
    "kernelspec": {
      "name": "python3",
      "display_name": "Python 3"
    },
    "language_info": {
      "name": "python"
    }
  },
  "cells": [
    {
      "cell_type": "markdown",
      "metadata": {
        "id": "view-in-github",
        "colab_type": "text"
      },
      "source": [
        "<a href=\"https://colab.research.google.com/github/Babcock-R17/PINN_Project/blob/master/Machine_Learning_PINNS.ipynb\" target=\"_parent\"><img src=\"https://colab.research.google.com/assets/colab-badge.svg\" alt=\"Open In Colab\"/></a>"
      ]
    },
    {
      "cell_type": "markdown",
      "source": [
        "\n",
        "# Overview\n",
        "\n",
        "\n",
        "\n",
        "\n"
      ],
      "metadata": {
        "id": "DDDh2wiizoUl"
      }
    },
    {
      "cell_type": "markdown",
      "source": [
        "As the use of Machine Learning and Artificial Intelligence continue to increase in applications, many industries will be transitioning to or is already incorporating such models to further the success of the business. With this increase in demand for the solutions that ML and AI can provide, also comes with an increasing need for higher level understanding of the ML and AI processes. In order to start learning about the processes of Machine Learning (ML) many have had the idea of constraining the network to adhere to some physical laws. This is where I started learning about Physically Informed Neural Nets (PINN’s) and ultimately, I want to explore the use of PINN’s in applications, and attempt to explore ML models through the lens of differential equations. \n",
        "\n",
        "The use of PINN’s in applications seems intuitive as both models are used in applications every day. Machine Learning has a very heavy use in applications today because of the flexibility in the problems it can solve, however the final structure of the “best” mapping appears to be random or perhaps chaotically mapped and interpreting the physical meaning behind the structure seems impossible. In contrast, we have Differential Equations which have been used with great success in many applications but is not as flexible as a ML model. This is because of the framework underlying the differential equation for your application needs to be well understood, however if it is well understood we can then solve our application either analytically or numerically.\n",
        "\n",
        "Now if we consider enforcing the framework of the PDE/ODE onto the neural-network, and then train the model. Would the ML model also provide solutions to the differential equations? and are there any benefits to solving PDE/ODE’s in this manner instead of numerically? In short…yes, and this is fully in line with the concept of Physically Informed Neural Nets (PINN’s). "
      ],
      "metadata": {
        "id": "84-BJBQSWtqs"
      }
    },
    {
      "cell_type": "markdown",
      "source": [
        "## Formulation"
      ],
      "metadata": {
        "id": "TVDLOutqW76s"
      }
    },
    {
      "cell_type": "markdown",
      "source": [
        "\n",
        "The question of how we constrain a Neural Net to Physical law’s and will this constrained network provide solutions to the prescribed PDE\\ODE are equivalent. As a result, we can find the how, by assuming that a ML model is the solution to the prescribed PDE/ODE that explain the physical constraints.\n",
        "\n",
        "Mathematically, we can start with a PDE/ODE, and assume a solution of the form of a ML model with unknown parameters, then solve the PDE. \n",
        "parameterize the differential equation with some Neural Network\n",
        "\n",
        "\n",
        "Given the physical laws:\n",
        "$ u_t = -u $ and $x \\in \\Omega,\\, t \\in [0,T]$\n",
        "$ u_t \\approx - \\mathcal{N}(u(x,t)\\,;\\, \\theta) \n",
        "$ Where $ \\mathcal{N}( \\cdot ;\\, \\theta)$ is a nonlinear operator parametrized by $\\theta$\n",
        "\n",
        "\n",
        "$ (u_t - \\mathcal{N}(u(x,t)) \\,;\\, \\theta) \\approx 0 $ \n",
        "\n",
        "define $f(t,x) = u_t + \\mathcal{N} $  and approximate $u(t,x)$ by a deep neural network.\n",
        "\n",
        "This network can be solved in a computational efficient way using Automatic Differentiation and has the same parameters as the network representing $u(t,\\, x)$ \n",
        "\n",
        "The shared parameters of  the  neural  networks $u(t,x)$  and $f(t,x)$  along  with  the  parameters $\\theta =(\\theta_1. \\theta_2)$  of the differential operator can be learned by minimizing the mean squared error loss. \n",
        "\n",
        "$$\n",
        "MSE_u + MSE_f = \\frac{1}{N} \\sum_{i=1}^{N} \\| u(t^i_u,x^i_u)−u_i \\|^2 + \\frac{1}{N} \\sum_{i=1}^{N} \\| f(t_u^i, x_u^i) \\|^2\n",
        "$$\n",
        " \n",
        "\n",
        "\n",
        "\n",
        "\n",
        "       "
      ],
      "metadata": {
        "id": "cbl0OpDDVa6F"
      }
    },
    {
      "cell_type": "markdown",
      "source": [
        "## PINN's is a Physical Informed Neural-Network"
      ],
      "metadata": {
        "id": "g4fUoklSXHoE"
      }
    },
    {
      "cell_type": "markdown",
      "source": [
        "\n",
        "  - This is an approach to solve ODE's and PDE's by constraining a Neural Network by the physics imposed by the differential equations.\n",
        "\n",
        " - This is beneficial because it gives a well understood and well studied structure onto the Neural Network.\n",
        "\n",
        "  - This structure also allows one to calculate either unknown parameters of a differential equation given some data, or you can create a prediction model for the given data from known parameters. \n",
        "\n",
        "Mathematically, we can start with a PDE and try to solve for the unknown paramters first, to explore the system. \n",
        "\n",
        " we can see this as two steps\n",
        "\n",
        " Step 1: parameterize the differential equation with some Neural Network\n",
        "Given\n",
        "  - $ u_t = -u $ and $x \\in \\Omega,\\, t \\in [0,T]$\n",
        "  - $ u_t \\approx - \\mathcal{N}(u(x,t)\\,;\\, \\theta) \\quad $ Where  \n",
        " $ \\mathcal{N}( \\cdot ;\\, \\theta)$ is a nonlinear operator parametrized by $\\theta$\n",
        " - $ u_t - \\mathcal{N}(u(x,t)) \\,;\\, \\theta) \\approx 0 $ \n",
        "\n",
        "  Step 2: define $f(t,x) = u_t + \\mathcal{N} $  and approximate $u(t,x)$ by a deep neural network.\n",
        " - This network can be solved in a computational efficient way using Automatic Differentiation and has the same parameters as the network representing $u(t,\\, x)$ \n",
        "\n",
        "The shared parameters of  the  neural  networks $u(t,x)$  and $f(t,x)$  along  with  the  parameters $\\theta =(\\theta_1. \\theta_2)$  of the differential operator can be learned by minimizing the mean squared error loss. \n",
        "$$\n",
        " MSE_u + MSE_f = \\frac{1}{N} \\sum_{i=1}^{N} \\| u(t^i_u,x^i_u)−u_i \\|^2 + \\frac{1}{N} \\sum_{i=1}^{N} \\| f(t_u^i, x_u^i) \\|^2\n",
        "  $$\n",
        "\n",
        "\n",
        "**Note**: In contrast to solve for the given parameters one would normally have to apply a mesh grid and approximate each parameter, and in some cases this is still very difficult.\n"
      ],
      "metadata": {
        "id": "gBS9rTQwVqQO"
      }
    },
    {
      "cell_type": "markdown",
      "source": [
        "## Diagram of Automatic Differentiation"
      ],
      "metadata": {
        "id": "dT58YJ6gXQzZ"
      }
    },
    {
      "cell_type": "markdown",
      "source": [
        " <img src=\"https://th.bing.com/th/id/R01fae23da35c06c75e51ef4a8ee4f9db?rik=qp%2f9fkKrso4DqQ&pid=ImgRaw\" alt=\"AutoDiff\" />     \n",
        " "
      ],
      "metadata": {
        "id": "5zSCZo-hYDvc"
      }
    },
    {
      "cell_type": "markdown",
      "source": [
        "# Hypotheses:"
      ],
      "metadata": {
        "id": "P2wyjjVXYo7C"
      }
    },
    {
      "cell_type": "markdown",
      "source": [
        "\n",
        " - Given some non-linear or linear differential equation(s), a computational efficient solution can be given.\n",
        " \n",
        " Assumptions: \n",
        "- Convergence\n",
        "- the tanh is a relatively good activation for both my examples\n",
        "\n"
      ],
      "metadata": {
        "id": "G006LqwLVyd4"
      }
    },
    {
      "cell_type": "markdown",
      "source": [
        "# Future work"
      ],
      "metadata": {
        "id": "0rc3qwhqZJOs"
      }
    },
    {
      "cell_type": "markdown",
      "source": [
        "- Properly analyze multiple activation functions and why they are the optimal functions for the given PDE\n",
        "- Explore PINN's as a means to create better designs and gain insights into the system beyond the 'Black-Box\" description "
      ],
      "metadata": {
        "id": "MJlBtTdKfC4X"
      }
    },
    {
      "cell_type": "markdown",
      "source": [
        "# Problem\n",
        "Analysis, Accuracy, Conclusions, and Interpretations.\n",
        "\n",
        "Lets explore the case where we have data on a Lorenz system of ODE's \n",
        "\n",
        "\n",
        "The Lorenz equation's is notable for having chaotic solutions for certain parameter values and initial conditions. In particular, the Lorenz attractor is a set of chaotic solutions of the Lorenz system.\n",
        " \n",
        "\n",
        "The equations relate the properties of a two-dimensional fluid layer uniformly warmed from below and cooled from above.\n",
        " \n",
        "###  \n",
        "\n",
        "<table>\n",
        "<tr> \n",
        "<td> \n",
        "<img alt=\"\" src=https://th.bing.com/th/id/OIP.Dh83KY8V0UOx3-5CY8OHUwHaGa?w=154&h=139&c=7&o=5&dpr=1.5&pid=1.7>\n",
        "</td>\n",
        "<td> \n",
        "</td>\n",
        "<td>  <img alt=\"\" src=\"//upload.wikimedia.org/wikipedia/commons/1/13/A_Trajectory_Through_Phase_Space_in_a_Lorenz_Attractor.gif\" decoding=\"async\" class=\"thumbimage\" data-file-width=\"200\" data-file-height=\"200\" width=\"200\" height=\"200\">\n",
        "</td>\n",
        "</tr>\n",
        "</table>  "
      ],
      "metadata": {
        "id": "__lZgTmpYs4y"
      }
    },
    {
      "cell_type": "markdown",
      "source": [
        "# Code"
      ],
      "metadata": {
        "id": "teoN5JgtaBVE"
      }
    },
    {
      "cell_type": "code",
      "source": [
        "from google.colab import drive\n",
        "drive.mount('/content/gdrive' )\n",
        "\n",
        "file_path = 'gdrive/MyDrive/Colab Notebooks/'\n",
        "folder_path = 'gdrive/MyDrive/Colab Notebooks/ML_Lorenz/'\n",
        "raw_path = 'gdrive/MyDrive/Colab Notebooks/data/Lorenz.npz'"
      ],
      "metadata": {
        "colab": {
          "base_uri": "https://localhost:8080/"
        },
        "id": "fmQJAAnRCpBM",
        "outputId": "d7342693-6953-44e5-ada8-6ec66259eb7d"
      },
      "execution_count": null,
      "outputs": [
        {
          "output_type": "stream",
          "name": "stdout",
          "text": [
            "Mounted at /content/gdrive\n"
          ]
        }
      ]
    },
    {
      "cell_type": "code",
      "source": [
        "!pip install deepxde"
      ],
      "metadata": {
        "id": "e358VIh4D7J-",
        "colab": {
          "base_uri": "https://localhost:8080/"
        },
        "outputId": "0c436968-cb01-4981-bba0-2c2d732e5669"
      },
      "execution_count": null,
      "outputs": [
        {
          "output_type": "stream",
          "name": "stdout",
          "text": [
            "Collecting deepxde\n",
            "  Downloading DeepXDE-1.0.0-py3-none-any.whl (117 kB)\n",
            "\u001b[K     |████████████████████████████████| 117 kB 3.2 MB/s \n",
            "\u001b[?25hCollecting scikit-optimize\n",
            "  Downloading scikit_optimize-0.9.0-py2.py3-none-any.whl (100 kB)\n",
            "\u001b[K     |████████████████████████████████| 100 kB 8.3 MB/s \n",
            "\u001b[?25hRequirement already satisfied: scipy in /usr/local/lib/python3.7/dist-packages (from deepxde) (1.4.1)\n",
            "Requirement already satisfied: numpy in /usr/local/lib/python3.7/dist-packages (from deepxde) (1.21.5)\n",
            "Requirement already satisfied: matplotlib in /usr/local/lib/python3.7/dist-packages (from deepxde) (3.2.2)\n",
            "Requirement already satisfied: scikit-learn in /usr/local/lib/python3.7/dist-packages (from deepxde) (1.0.2)\n",
            "Requirement already satisfied: kiwisolver>=1.0.1 in /usr/local/lib/python3.7/dist-packages (from matplotlib->deepxde) (1.3.2)\n",
            "Requirement already satisfied: python-dateutil>=2.1 in /usr/local/lib/python3.7/dist-packages (from matplotlib->deepxde) (2.8.2)\n",
            "Requirement already satisfied: cycler>=0.10 in /usr/local/lib/python3.7/dist-packages (from matplotlib->deepxde) (0.11.0)\n",
            "Requirement already satisfied: pyparsing!=2.0.4,!=2.1.2,!=2.1.6,>=2.0.1 in /usr/local/lib/python3.7/dist-packages (from matplotlib->deepxde) (3.0.7)\n",
            "Requirement already satisfied: six>=1.5 in /usr/local/lib/python3.7/dist-packages (from python-dateutil>=2.1->matplotlib->deepxde) (1.15.0)\n",
            "Requirement already satisfied: joblib>=0.11 in /usr/local/lib/python3.7/dist-packages (from scikit-learn->deepxde) (1.1.0)\n",
            "Requirement already satisfied: threadpoolctl>=2.0.0 in /usr/local/lib/python3.7/dist-packages (from scikit-learn->deepxde) (3.1.0)\n",
            "Collecting pyaml>=16.9\n",
            "  Downloading pyaml-21.10.1-py2.py3-none-any.whl (24 kB)\n",
            "Requirement already satisfied: PyYAML in /usr/local/lib/python3.7/dist-packages (from pyaml>=16.9->scikit-optimize->deepxde) (3.13)\n",
            "Installing collected packages: pyaml, scikit-optimize, deepxde\n",
            "Successfully installed deepxde-1.0.0 pyaml-21.10.1 scikit-optimize-0.9.0\n"
          ]
        }
      ]
    },
    {
      "cell_type": "code",
      "source": [
        "'''\n",
        "@Author: Jasen Babcock\n",
        "@Python3.9\n",
        "'''\n",
        "# %% Load the data and imports\n",
        "import warnings\n",
        "warnings.filterwarnings('ignore')\n",
        "from numpy.core.shape_base import stack\n",
        "import matplotlib.pylab as plt\n",
        "import numpy as np\n",
        "from numpy.lib.function_base import rot90\n",
        "import pandas as pd\n",
        "from pandas.core.indexing import is_label_like\n",
        "from pandas.core.tools.datetimes import to_datetime\n",
        "import scipy.optimize as optimize\n",
        "import markdown\n",
        "from __future__ import absolute_import\n",
        "from __future__ import division\n",
        "from __future__ import print_function\n",
        "import deepxde as dde\n",
        "from deepxde.backend import tf \n",
        "\n",
        "\n",
        "\n",
        "#%% Setup/ Preprocessing\n",
        "def gen_traindata(path=raw_path):\n",
        "    \"\"\"\n",
        "    return data from a npy data type as a numpy array\n",
        "    \"\"\"\n",
        "    data = np.load(path)\n",
        "    return data[\"t\"], data[\"y\"]\n",
        "\n",
        "#%% Graphs and data summary \n",
        "ob_t, ob_y = gen_traindata() \n",
        "df = pd.DataFrame(np.hstack([ob_t, ob_y]), columns=[\"t\", \"y_1\", \"y_2\", \"y_3\"])\n",
        "df.set_index('t').plot()\n",
        "plt.title(\"Raw Data\")\n",
        "plt.show()\n",
        "# Adding description\n",
        "df.set_index('t').describe()\n",
        "\n",
        "\n",
        "#%% Imposing an Expected Physical structure to the given data\n",
        "C1 = tf.Variable(1.0)\n",
        "C2 = tf.Variable(1.0)\n",
        "C3 = tf.Variable(1.0)\n",
        "\n",
        "def Lorenz_system(x, y):\n",
        "    \"\"\"\n",
        "    Lorenz system.\n",
        "        dy1/dx = 10 * (y2 - y1)\n",
        "        dy2/dx = y1 * (28 - y3) - y2\n",
        "        dy3/dx = y1 * y2 - 8/3 * y3\n",
        "    Note: The system exhibits chaotic behavior for the selected parameters,\n",
        "     the Lorenz system has chaotic solutions (but not all solutions are chaotic). \n",
        "    \"\"\"    \n",
        "    y1, y2, y3 = y[:, 0:1], y[:, 1:2], y[:, 2:]\n",
        "    dy1_x = dde.grad.jacobian(y, x, i=0)\n",
        "    dy2_x = dde.grad.jacobian(y, x, i=1)\n",
        "    dy3_x = dde.grad.jacobian(y, x, i=2)\n",
        "    return [\n",
        "        dy1_x - C1 * (y2 - y1),\n",
        "        dy2_x - y1 * (C2 - y3) + y2,\n",
        "        dy3_x - y1 * y2 + C3 * y3,\n",
        "        ]\n",
        "\n",
        "def boundary(_, on_initial):\n",
        "    return on_initial\n",
        "\n",
        "\n",
        "#%% Machine Learning section...PINN's\n",
        "#\n",
        "# Define Geometry of the Domain...\n",
        "geom = dde.geometry.TimeDomain(0, 3)\n",
        "\n",
        "# Set initial conditions...\n",
        "ic1 = dde.IC(geom, lambda X: -8, boundary, component=0)\n",
        "ic2 = dde.IC(geom, lambda X: 7, boundary, component=1)\n",
        "ic3 = dde.IC(geom, lambda X: 27, boundary, component=2)\n",
        "\n",
        "# Get the train data...\n",
        "observe_t, ob_y = gen_traindata()\n",
        "observe_y0 = dde.PointSetBC(observe_t, ob_y[:, 0:1], component=0)\n",
        "observe_y1 = dde.PointSetBC(observe_t, ob_y[:, 1:2], component=1)\n",
        "observe_y2 = dde.PointSetBC(observe_t, ob_y[:, 2:3], component=2)\n",
        "data = dde.data.PDE(\n",
        "    geom,\n",
        "    Lorenz_system,\n",
        "    [ic1, ic2, ic3, observe_y0, observe_y1, observe_y2],\n",
        "    num_domain=400,\n",
        "    num_boundary=2,\n",
        "    anchors=observe_t,\n",
        ")\n",
        "# Create your model...\n",
        "# net depth 4, width 40, activation tanh, initializer Glorot uniform\n",
        "net = dde.maps.FNN([1] + [40] * 3 + [3], \"tanh\", \"Glorot uniform\")\n",
        "model = dde.Model(data, net)\n",
        "\n",
        "model.compile(\"adam\", lr=0.001, loss=\"MSE\")\n",
        "variable = dde.callbacks.VariableValue(\n",
        "    [C1, C2, C3], period=600, filename=\"variables.dat\"\n",
        ")\n",
        "\n",
        "# model.save(folder_path , protocol=\"tf.#train.Saver\")\n",
        "\n",
        "checkpointer = dde.callbacks.ModelCheckpoint(\n",
        "    folder_path + \"model/lorenz.ckpt\", verbose=1, save_better_only=True\n",
        ")\n",
        "\n",
        "\n",
        "losshistory, train_state = model.train(\n",
        "    epochs=10000, callbacks=[checkpointer ], display_every=10000\n",
        ")\n",
        "\n",
        "dde.saveplot(losshistory, train_state, issave=True, isplot=False, output_dir=folder_path)\n"
      ],
      "metadata": {
        "id": "kwmTrTu1Js1y",
        "colab": {
          "base_uri": "https://localhost:8080/",
          "height": 975
        },
        "outputId": "e7c2582e-8803-4cf0-94ba-64627cf42c20"
      },
      "execution_count": null,
      "outputs": [
        {
          "output_type": "stream",
          "name": "stderr",
          "text": [
            "Deepxde backend not selected or invalid. Assuming tensorflow.compat.v1 for now.\n",
            "Using backend: tensorflow.compat.v1\n",
            "\n"
          ]
        },
        {
          "output_type": "stream",
          "name": "stdout",
          "text": [
            "Setting the default backend to \"tensorflow.compat.v1\". You can change it in the ~/.deepxde/config.json file or export the DDEBACKEND environment variable. Valid options are: tensorflow.compat.v1, tensorflow, pytorch (all lowercase)\n",
            "WARNING:tensorflow:From /usr/local/lib/python3.7/dist-packages/tensorflow/python/compat/v2_compat.py:107: disable_resource_variables (from tensorflow.python.ops.variable_scope) is deprecated and will be removed in a future version.\n",
            "Instructions for updating:\n",
            "non-resource variables are not supported in the long term\n",
            "WARNING:tensorflow:From /usr/local/lib/python3.7/dist-packages/deepxde/nn/initializers.py:116: The name tf.keras.initializers.he_normal is deprecated. Please use tf.compat.v1.keras.initializers.he_normal instead.\n",
            "\n"
          ]
        },
        {
          "output_type": "display_data",
          "data": {
            "image/png": "[encoded data removed]",
            "text/plain": [
              "<Figure size 432x288 with 1 Axes>"
            ]
          },
          "metadata": {
            "needs_background": "light"
          }
        },
        {
          "output_type": "stream",
          "name": "stdout",
          "text": [
            "Compiling model...\n",
            "Building feed-forward neural network...\n",
            "'build' took 0.075093 s\n",
            "\n",
            "'compile' took 0.899510 s\n",
            "\n",
            "Initializing variables...\n",
            "Training model...\n",
            "\n",
            "Step      Train loss                                                                                    Test loss                                                                                     Test metric\n",
            "0         [4.05e-01, 1.30e-01, 8.69e-01, 6.40e+01, 4.90e+01, 7.29e+02, 3.11e+01, 4.10e+01, 2.45e+02]    [4.05e-01, 1.30e-01, 8.69e-01, 6.40e+01, 4.90e+01, 7.29e+02, 3.11e+01, 4.10e+01, 2.45e+02]    []  \n",
            "INFO:tensorflow:gdrive/MyDrive/Colab Notebooks/ML_Lorenz/model/lorenz.ckpt-1.ckpt is not in all_model_checkpoint_paths. Manually adding it.\n",
            "Epoch 1: train loss improved from inf to 1.16e+03, saving model to gdrive/MyDrive/Colab Notebooks/ML_Lorenz/model/lorenz.ckpt-1.ckpt ...\n",
            "\n",
            "10000     [4.00e-01, 9.13e-01, 3.13e-01, 9.24e-01, 1.14e-01, 1.94e-03, 2.50e+00, 2.39e+00, 8.44e+00]    [4.00e-01, 9.13e-01, 3.13e-01, 9.24e-01, 1.14e-01, 1.94e-03, 2.50e+00, 2.39e+00, 8.44e+00]    []  \n",
            "INFO:tensorflow:gdrive/MyDrive/Colab Notebooks/ML_Lorenz/model/lorenz.ckpt-10000.ckpt is not in all_model_checkpoint_paths. Manually adding it.\n",
            "Epoch 10000: train loss improved from 1.16e+03 to 1.60e+01, saving model to gdrive/MyDrive/Colab Notebooks/ML_Lorenz/model/lorenz.ckpt-10000.ckpt ...\n",
            "\n",
            "\n",
            "Best model at step 10000:\n",
            "  train loss: 1.60e+01\n",
            "  test loss: 1.60e+01\n",
            "  test metric: []\n",
            "\n",
            "'train' took 39.219745 s\n",
            "\n",
            "Saving loss history to gdrive/MyDrive/Colab Notebooks/ML_Lorenz/loss.dat ...\n",
            "Saving training data to gdrive/MyDrive/Colab Notebooks/ML_Lorenz/train.dat ...\n",
            "Saving test data to gdrive/MyDrive/Colab Notebooks/ML_Lorenz/test.dat ...\n"
          ]
        }
      ]
    },
    {
      "cell_type": "code",
      "execution_count": null,
      "metadata": {
        "colab": {
          "base_uri": "https://localhost:8080/",
          "height": 279
        },
        "id": "vTrRntHxzKBc",
        "outputId": "4ab9ac7d-eb7b-406d-9714-aede1105fbdf"
      },
      "outputs": [
        {
          "output_type": "display_data",
          "data": {
            "image/png": "[encoded data removed]",
            "text/plain": [
              "<Figure size 432x288 with 1 Axes>"
            ]
          },
          "metadata": {
            "needs_background": "light"
          }
        }
      ],
      "source": [
        "#%% Plot solution to PDE\n",
        "\n",
        "# Plot the results\n",
        "x = geom.uniform_points(1000, True)\n",
        "f = model.predict(x, operator=Lorenz_system)\n",
        "y_pred =  pd.DataFrame(model.predict(x), columns=['y_1', 'y_2', 'y_3'] )\n",
        "\n",
        "plt.figure()\n",
        "plt.plot(x, y_pred)\n",
        "plt.xlabel(\"t\")\n",
        "plt.ylabel(\"PDE Solution\")\n",
        "plt.legend(y_pred.columns)\n",
        "# plt.savefig(\"results.png\", bbox_inches='tight')\n",
        "plt.show()"
      ]
    },
    {
      "cell_type": "code",
      "source": [
        "## Example 2. Poisson equations \n",
        "# Setting up the PDE and Boundary domain\n",
        "def pde(x, y):\n",
        "    \"\"\" 1d posion Dirichlet boundary conditions \"\"\"\n",
        "    dy_xx = dde.grad.hessian(y, x)\n",
        "    return -dy_xx - np.pi ** 2 * tf.sin(np.pi * x)\n",
        "\n",
        "def boundary(x, on_boundary):\n",
        "    return on_boundary\n",
        "\n",
        "def func(x):\n",
        "    \"\"\" solution used to generate accurate data, \n",
        "    18 datapoints will be sampled \"\"\" \n",
        "    return np.sin(np.pi * x)\n",
        "\n",
        "geom = dde.geometry.Interval(-1, 1)\n",
        "bc = dde.DirichletBC(geom, func, boundary)\n",
        "\n",
        "#%% Sampling 18 Exact solutions, 16 in domain and 2 on the boundary condition\n",
        "data = dde.data.PDE(geom, pde, bc, num_domain=16,\n",
        "                    num_boundary=2, solution=func, num_test=100)\n",
        "\n",
        "# Build Network 3 hidden layers width 50\n",
        "layer_size = [1] + [50] * 3 + [1]\n",
        "activation = \"tanh\"\n",
        "initializer = \"Glorot uniform\"\n",
        "net = dde.maps.FNN(layer_size, activation, initializer)\n",
        "\n",
        "model = dde.Model(data, net)\n",
        "model.compile(\"adam\", lr=0.001, metrics=[\"l2 relative error\"])\n",
        "\n",
        "\n",
        "checkpointer = dde.callbacks.ModelCheckpoint(\n",
        "    file_path + \"ML_Poisson/model/model.ckpt\", verbose=1, save_better_only=True\n",
        ")\n",
        "\n",
        "losshistory, train_state = model.train(\n",
        "    epochs=10000, callbacks=[checkpointer ]\n",
        ")\n",
        "\n",
        "dde.saveplot(losshistory, train_state, issave=True, isplot=False)\n"
      ],
      "metadata": {
        "id": "fDhNHc_JDuin",
        "colab": {
          "base_uri": "https://localhost:8080/"
        },
        "outputId": "8ab07e58-d089-4cdf-8ef8-0de73150e175"
      },
      "execution_count": null,
      "outputs": [
        {
          "output_type": "stream",
          "name": "stdout",
          "text": [
            "Compiling model...\n",
            "Building feed-forward neural network...\n",
            "'build' took 0.074910 s\n",
            "\n",
            "'compile' took 0.507854 s\n",
            "\n",
            "Initializing variables...\n",
            "Training model...\n",
            "\n",
            "Step      Train loss              Test loss               Test metric   \n",
            "0         [4.62e+01, 9.24e-04]    [4.88e+01, 9.24e-04]    [1.02e+00]    \n",
            "INFO:tensorflow:gdrive/MyDrive/Colab Notebooks/ML_Poisson/model/model.ckpt-1.ckpt is not in all_model_checkpoint_paths. Manually adding it.\n",
            "Epoch 1: train loss improved from inf to 4.62e+01, saving model to gdrive/MyDrive/Colab Notebooks/ML_Poisson/model/model.ckpt-1.ckpt ...\n",
            "\n",
            "1000      [3.76e-04, 2.69e-07]    [5.84e-04, 2.69e-07]    [1.26e-03]    \n",
            "INFO:tensorflow:gdrive/MyDrive/Colab Notebooks/ML_Poisson/model/model.ckpt-1000.ckpt is not in all_model_checkpoint_paths. Manually adding it.\n",
            "Epoch 1000: train loss improved from 4.62e+01 to 3.77e-04, saving model to gdrive/MyDrive/Colab Notebooks/ML_Poisson/model/model.ckpt-1000.ckpt ...\n",
            "\n",
            "2000      [9.68e-05, 6.62e-09]    [2.36e-04, 6.62e-09]    [7.82e-04]    \n",
            "INFO:tensorflow:gdrive/MyDrive/Colab Notebooks/ML_Poisson/model/model.ckpt-2000.ckpt is not in all_model_checkpoint_paths. Manually adding it.\n",
            "Epoch 2000: train loss improved from 3.77e-04 to 9.68e-05, saving model to gdrive/MyDrive/Colab Notebooks/ML_Poisson/model/model.ckpt-2000.ckpt ...\n",
            "\n",
            "3000      [4.30e-05, 2.03e-09]    [1.37e-04, 2.03e-09]    [2.87e-04]    \n",
            "INFO:tensorflow:gdrive/MyDrive/Colab Notebooks/ML_Poisson/model/model.ckpt-3000.ckpt is not in all_model_checkpoint_paths. Manually adding it.\n",
            "Epoch 3000: train loss improved from 9.68e-05 to 4.30e-05, saving model to gdrive/MyDrive/Colab Notebooks/ML_Poisson/model/model.ckpt-3000.ckpt ...\n",
            "\n",
            "4000      [2.13e-04, 1.14e-05]    [1.78e-04, 1.14e-05]    [2.50e-03]    \n",
            "5000      [8.04e-06, 1.26e-09]    [5.70e-05, 1.26e-09]    [1.59e-04]    \n",
            "INFO:tensorflow:gdrive/MyDrive/Colab Notebooks/ML_Poisson/model/model.ckpt-5000.ckpt is not in all_model_checkpoint_paths. Manually adding it.\n",
            "Epoch 5000: train loss improved from 4.30e-05 to 8.05e-06, saving model to gdrive/MyDrive/Colab Notebooks/ML_Poisson/model/model.ckpt-5000.ckpt ...\n",
            "\n",
            "6000      [6.97e-06, 2.56e-07]    [3.93e-05, 2.56e-07]    [4.67e-04]    \n",
            "INFO:tensorflow:gdrive/MyDrive/Colab Notebooks/ML_Poisson/model/model.ckpt-6000.ckpt is not in all_model_checkpoint_paths. Manually adding it.\n",
            "Epoch 6000: train loss improved from 8.05e-06 to 7.23e-06, saving model to gdrive/MyDrive/Colab Notebooks/ML_Poisson/model/model.ckpt-6000.ckpt ...\n",
            "\n",
            "7000      [3.16e-04, 5.15e-05]    [3.72e-04, 5.15e-05]    [6.88e-03]    \n",
            "8000      [2.57e-04, 2.15e-05]    [1.99e-04, 2.15e-05]    [4.45e-03]    \n",
            "9000      [2.77e-06, 1.84e-10]    [3.55e-05, 1.84e-10]    [1.43e-04]    \n",
            "INFO:tensorflow:gdrive/MyDrive/Colab Notebooks/ML_Poisson/model/model.ckpt-9000.ckpt is not in all_model_checkpoint_paths. Manually adding it.\n",
            "Epoch 9000: train loss improved from 7.23e-06 to 2.77e-06, saving model to gdrive/MyDrive/Colab Notebooks/ML_Poisson/model/model.ckpt-9000.ckpt ...\n",
            "\n",
            "10000     [5.58e-06, 4.91e-07]    [4.76e-05, 4.91e-07]    [6.68e-04]    \n",
            "\n",
            "Best model at step 9000:\n",
            "  train loss: 2.77e-06\n",
            "  test loss: 3.55e-05\n",
            "  test metric: [1.43e-04]\n",
            "\n",
            "'train' took 16.175786 s\n",
            "\n",
            "Saving loss history to /content/loss.dat ...\n",
            "Saving training data to /content/train.dat ...\n",
            "Saving test data to /content/test.dat ...\n"
          ]
        }
      ]
    },
    {
      "cell_type": "code",
      "source": [
        "\n",
        "# Plot PDE residual\n",
        "x = geom.uniform_points(1000, True)\n",
        "y = model.predict(x, operator=pde)\n",
        "plt.figure()\n",
        "plt.plot(x, y)\n",
        "plt.xlabel(\"t\")\n",
        "plt.ylabel(\"PDE residual\")\n",
        "\n",
        "# plt.savefig(\"PDE_residual.png\", bbox_inches='tight')\n",
        "\n",
        "plt.show()\n",
        "\n",
        "# Plot the results\n",
        "f = model.predict(x, operator=pde)\n",
        "y_pred = model.predict(x)\n",
        "print(\"Mean residual:\", np.mean(np.absolute(f)))\n",
        "print(\"L2 relative error:\", dde.metrics.l2_relative_error(func(x), y_pred))\n",
        "plt.figure()\n",
        "plt.plot(x, y_pred, label=\"predicted\")\n",
        "plt.plot(x, func(x), \"--\", label=\"exact\")\n",
        "plt.xlabel(\"t\")\n",
        "plt.ylabel(\"PDE Solution\")\n",
        "plt.legend()\n",
        "\n",
        "# plt.savefig(\"results.png\", bbox_inches='tight')\n",
        "plt.show()\n"
      ],
      "metadata": {
        "colab": {
          "base_uri": "https://localhost:8080/",
          "height": 576
        },
        "id": "RmqSRDxmv3VW",
        "outputId": "4d998e27-bbc7-4f03-d3cf-e398c333b079"
      },
      "execution_count": null,
      "outputs": [
        {
          "output_type": "display_data",
          "data": {
            "image/png": "[encoded data removed]",
            "text/plain": [
              "<Figure size 432x288 with 1 Axes>"
            ]
          },
          "metadata": {
            "needs_background": "light"
          }
        },
        {
          "output_type": "stream",
          "name": "stdout",
          "text": [
            "Mean residual: 0.003560893\n",
            "L2 relative error: 0.00066141196\n"
          ]
        },
        {
          "output_type": "display_data",
          "data": {
            "image/png": "[encoded data removed]",
            "text/plain": [
              "<Figure size 432x288 with 1 Axes>"
            ]
          },
          "metadata": {
            "needs_background": "light"
          }
        }
      ]
    }
  ]
}